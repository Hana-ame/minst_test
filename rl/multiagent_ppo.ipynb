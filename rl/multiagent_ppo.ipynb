{
  "cells": [
    {
      "cell_type": "markdown",
      "metadata": {
        "id": "OKbqJfEHZAyt"
      },
      "source": [
        "\n",
        "# Multi-Agent Reinforcement Learning (PPO) with TorchRL Tutorial\n",
        "**Author**: [Matteo Bettini](https://github.com/matteobettini)\n",
        "\n",
        ".. seealso::\n",
        "   The [BenchMARL](https://github.com/facebookresearch/BenchMARL)_ library provides state-of-the-art\n",
        "   implementations of MARL algorithms using TorchRL.\n",
        "\n",
        "This tutorial demonstrates how to use PyTorch and :py:mod:`torchrl` to\n",
        "solve a Multi-Agent Reinforcement Learning (MARL) problem.\n",
        "\n",
        "For ease of use, this tutorial will follow the general structure of the already available in:\n",
        ":doc:`/tutorials/coding_ppo`.\n",
        "It is suggested but not mandatory to get familiar with that prior to starting this tutorial.\n",
        "\n",
        "In this tutorial, we will use the *Navigation* environment from\n",
        "[VMAS](https://github.com/proroklab/VectorizedMultiAgentSimulator)_,\n",
        "a multi-robot simulator, also\n",
        "based on PyTorch, that runs parallel batched simulation on device.\n",
        "\n",
        "In the *Navigation* environment,\n",
        "we need to train multiple robots (spawned at random positions)\n",
        "to navigate to their goals (also at random positions), while\n",
        "using  [LIDAR sensors](https://en.wikipedia.org/wiki/Lidar)_ to avoid collisions among each other.\n",
        "\n",
        ".. figure:: https://pytorch.s3.amazonaws.com/torchrl/github-artifacts/img/navigation.gif\n",
        "   :alt: Navigation\n",
        "\n",
        "   Multi-agent *Navigation* scenario\n",
        "\n",
        "Key learnings:\n",
        "\n",
        "- How to create a multi-agent environment in TorchRL, how its specs work, and how it integrates with the library;\n",
        "- How you use GPU vectorized environments in TorchRL;\n",
        "- How to create different multi-agent network architectures in TorchRL (e.g., using parameter sharing, centralised critic)\n",
        "- How we can use :class:`tensordict.TensorDict` to carry multi-agent data;\n",
        "- How we can tie all the library components (collectors, modules, replay buffers, and losses) in a multi-agent MAPPO/IPPO training loop.\n"
      ]
    },
    {
      "cell_type": "markdown",
      "metadata": {
        "id": "hfJjeVaZZAyy"
      },
      "source": [
        "If you are running this in Google Colab, make sure you install the following dependencies:\n",
        "\n",
        "```bash\n",
        "!pip3 install torchrl\n",
        "!pip3 install vmas\n",
        "!pip3 install tqdm\n",
        "```\n",
        "Proximal Policy Optimization (PPO) is a policy-gradient algorithm where a\n",
        "batch of data is being collected and directly consumed to train the policy to maximise\n",
        "the expected return given some proximality constraints. You can think of it\n",
        "as a sophisticated version of [REINFORCE](https://link.springer.com/content/pdf/10.1007/BF00992696.pdf),\n",
        "the foundational policy-optimization algorithm. For more information, see the\n",
        "[Proximal Policy Optimization Algorithms](https://arxiv.org/abs/1707.06347) paper.\n",
        "\n",
        "This type of algorithms is usually trained *on-policy*. This means that, at every learning iteration, we have a\n",
        "**sampling** and a **training** phase. In the **sampling** phase of iteration $t$, rollouts are collected\n",
        "form agents' interactions in the environment using the current policies $\\mathbf{\\pi}_t$.\n",
        "In the **training** phase, all the collected rollouts are immediately fed to the training process to perform\n",
        "backpropagation. This leads to updated policies which are then used again for sampling.\n",
        "The execution of this process in a loop constitutes *on-policy learning*.\n",
        "\n",
        ".. figure:: https://pytorch.s3.amazonaws.com/torchrl/github-artifacts/img/on_policy_vmas.png\n",
        "   :alt: On-policy learning\n",
        "\n",
        "   On-policy learning\n",
        "\n",
        "\n",
        "In the training phase of the PPO algorithm, a *critic* is used to estimate the goodness of the actions\n",
        "taken by the policy. The critic learns to approximate the value (mean discounted return) of a specific state.\n",
        "The PPO loss then compares the actual return obtained by the policy to the one estimated by the critic to determine\n",
        "the advantage of the action taken and guide the policy optimization.\n",
        "\n",
        "In multi-agent settings, things are a bit different. We now have multiple policies $\\mathbf{\\pi}$,\n",
        "one for each agent. Policies are typically local and decentralised. This means that\n",
        "the policy for a single agent will output an action for that agent based only on its observation.\n",
        "In the MARL literature, this is referred to as **decentralised execution**.\n",
        "On the other hand, different formulations exist for the critic, mainly:\n",
        "\n",
        "- In [MAPPO](https://arxiv.org/abs/2103.01955) the critic is centralised and takes as input the global state\n",
        "  of the system. This can be a global observation or simply the concatenation of the agents' observation. MAPPO\n",
        "  can be used in contexts where **centralised training** is performed as it needs access to global information.\n",
        "- In [IPPO](https://arxiv.org/abs/2011.09533) the critic takes as input just the observation of the respective agent,\n",
        "  exactly like the policy. This allows **decentralised training** as both the critic and the policy will only need local\n",
        "  information to compute their outputs.\n",
        "\n",
        "Centralised critics help overcome the non-stationary of multiple agents learning concurrently, but,\n",
        "on the other hand, they may be impacted by their large input space.\n",
        "In this tutorial, we will be able to train both formulations, and we will also discuss how\n",
        "parameter-sharing (the practice of sharing the network parameters across the agents) impacts each.\n",
        "\n",
        "This tutorial is structured as follows:\n",
        "\n",
        "1. First, we will define a set of hyperparameters we will be using.\n",
        "\n",
        "2. Next, we will create a vectorized multi-agent environment, using TorchRL's\n",
        "   wrapper for the VMAS simulator.\n",
        "\n",
        "3. Next, we will design the policy and the critic networks, discussing the impact of the various choices on\n",
        "   parameter sharing and critic centralization.\n",
        "\n",
        "4. Next, we will create the sampling collector and the replay buffer.\n",
        "\n",
        "5. Finally, we will run our training loop and analyse the results.\n",
        "\n",
        "If you are running this in Colab or in a machine with a GUI, you will also have the option\n",
        "to render and visualise your own trained policy prior and after training.\n",
        "\n",
        "Let's import our dependencies\n",
        "\n",
        "\n"
      ]
    },
    {
      "cell_type": "code",
      "execution_count": 1,
      "metadata": {
        "colab": {
          "base_uri": "https://localhost:8080/"
        },
        "id": "SOld8DZ4ZMkL",
        "outputId": "3ba43379-df16-420b-829f-da7a4172e179"
      },
      "outputs": [
        {
          "name": "stdout",
          "output_type": "stream",
          "text": [
            "Requirement already satisfied: torchrl in /home/lumin/miniconda3/lib/python3.12/site-packages (0.5.0)\n",
            "Requirement already satisfied: torch>=2.3.0 in /home/lumin/miniconda3/lib/python3.12/site-packages (from torchrl) (2.4.1)\n",
            "Requirement already satisfied: numpy in /home/lumin/miniconda3/lib/python3.12/site-packages (from torchrl) (1.26.4)\n",
            "Requirement already satisfied: packaging in /home/lumin/miniconda3/lib/python3.12/site-packages (from torchrl) (24.1)\n",
            "Requirement already satisfied: cloudpickle in /home/lumin/miniconda3/lib/python3.12/site-packages (from torchrl) (3.1.0)\n",
            "Requirement already satisfied: tensordict>=0.5.0 in /home/lumin/miniconda3/lib/python3.12/site-packages (from torchrl) (0.5.0)\n",
            "Requirement already satisfied: orjson in /home/lumin/miniconda3/lib/python3.12/site-packages (from tensordict>=0.5.0->torchrl) (3.10.7)\n",
            "Requirement already satisfied: filelock in /home/lumin/miniconda3/lib/python3.12/site-packages (from torch>=2.3.0->torchrl) (3.13.1)\n",
            "Requirement already satisfied: typing-extensions>=4.8.0 in /home/lumin/miniconda3/lib/python3.12/site-packages (from torch>=2.3.0->torchrl) (4.11.0)\n",
            "Requirement already satisfied: sympy in /home/lumin/miniconda3/lib/python3.12/site-packages (from torch>=2.3.0->torchrl) (1.13.2)\n",
            "Requirement already satisfied: networkx in /home/lumin/miniconda3/lib/python3.12/site-packages (from torch>=2.3.0->torchrl) (3.2.1)\n",
            "Requirement already satisfied: jinja2 in /home/lumin/miniconda3/lib/python3.12/site-packages (from torch>=2.3.0->torchrl) (3.1.4)\n",
            "Requirement already satisfied: fsspec in /home/lumin/miniconda3/lib/python3.12/site-packages (from torch>=2.3.0->torchrl) (2024.9.0)\n",
            "Requirement already satisfied: setuptools in /home/lumin/miniconda3/lib/python3.12/site-packages (from torch>=2.3.0->torchrl) (75.1.0)\n",
            "Requirement already satisfied: MarkupSafe>=2.0 in /home/lumin/miniconda3/lib/python3.12/site-packages (from jinja2->torch>=2.3.0->torchrl) (2.1.3)\n",
            "Requirement already satisfied: mpmath<1.4,>=1.1.0 in /home/lumin/miniconda3/lib/python3.12/site-packages (from sympy->torch>=2.3.0->torchrl) (1.3.0)\n"
          ]
        },
        {
          "name": "stdout",
          "output_type": "stream",
          "text": [
            "Requirement already satisfied: vmas in /home/lumin/miniconda3/lib/python3.12/site-packages (1.4.3)\n",
            "Requirement already satisfied: numpy in /home/lumin/miniconda3/lib/python3.12/site-packages (from vmas) (1.26.4)\n",
            "Requirement already satisfied: torch in /home/lumin/miniconda3/lib/python3.12/site-packages (from vmas) (2.4.1)\n",
            "Requirement already satisfied: pyglet<=1.5.27 in /home/lumin/miniconda3/lib/python3.12/site-packages (from vmas) (1.5.27)\n",
            "Requirement already satisfied: gym in /home/lumin/miniconda3/lib/python3.12/site-packages (from vmas) (0.26.2)\n",
            "Requirement already satisfied: six in /home/lumin/miniconda3/lib/python3.12/site-packages (from vmas) (1.16.0)\n",
            "Requirement already satisfied: cloudpickle>=1.2.0 in /home/lumin/miniconda3/lib/python3.12/site-packages (from gym->vmas) (3.1.0)\n",
            "Requirement already satisfied: gym-notices>=0.0.4 in /home/lumin/miniconda3/lib/python3.12/site-packages (from gym->vmas) (0.0.8)\n",
            "Requirement already satisfied: filelock in /home/lumin/miniconda3/lib/python3.12/site-packages (from torch->vmas) (3.13.1)\n",
            "Requirement already satisfied: typing-extensions>=4.8.0 in /home/lumin/miniconda3/lib/python3.12/site-packages (from torch->vmas) (4.11.0)\n",
            "Requirement already satisfied: sympy in /home/lumin/miniconda3/lib/python3.12/site-packages (from torch->vmas) (1.13.2)\n",
            "Requirement already satisfied: networkx in /home/lumin/miniconda3/lib/python3.12/site-packages (from torch->vmas) (3.2.1)\n",
            "Requirement already satisfied: jinja2 in /home/lumin/miniconda3/lib/python3.12/site-packages (from torch->vmas) (3.1.4)\n",
            "Requirement already satisfied: fsspec in /home/lumin/miniconda3/lib/python3.12/site-packages (from torch->vmas) (2024.9.0)\n",
            "Requirement already satisfied: setuptools in /home/lumin/miniconda3/lib/python3.12/site-packages (from torch->vmas) (75.1.0)\n",
            "Requirement already satisfied: MarkupSafe>=2.0 in /home/lumin/miniconda3/lib/python3.12/site-packages (from jinja2->torch->vmas) (2.1.3)\n",
            "Requirement already satisfied: mpmath<1.4,>=1.1.0 in /home/lumin/miniconda3/lib/python3.12/site-packages (from sympy->torch->vmas) (1.3.0)\n",
            "Requirement already satisfied: tqdm in /home/lumin/miniconda3/lib/python3.12/site-packages (4.66.5)\n"
          ]
        }
      ],
      "source": [
        "!pip3 install torchrl\n",
        "!pip3 install vmas\n",
        "!pip3 install tqdm"
      ]
    },
    {
      "cell_type": "code",
      "execution_count": 2,
      "metadata": {
        "id": "EBQKpOrkZAyz"
      },
      "outputs": [],
      "source": [
        "# Torch\n",
        "import torch\n",
        "\n",
        "# Tensordict modules\n",
        "from tensordict.nn import TensorDictModule\n",
        "from tensordict.nn.distributions import NormalParamExtractor\n",
        "from torch import multiprocessing\n",
        "\n",
        "# Data collection\n",
        "from torchrl.collectors import SyncDataCollector\n",
        "from torchrl.data.replay_buffers import ReplayBuffer\n",
        "from torchrl.data.replay_buffers.samplers import SamplerWithoutReplacement\n",
        "from torchrl.data.replay_buffers.storages import LazyTensorStorage\n",
        "\n",
        "# Env\n",
        "from torchrl.envs import RewardSum, TransformedEnv\n",
        "from torchrl.envs.libs.vmas import VmasEnv\n",
        "from torchrl.envs.utils import check_env_specs\n",
        "\n",
        "# Multi-agent network\n",
        "from torchrl.modules import MultiAgentMLP, ProbabilisticActor, TanhNormal\n",
        "\n",
        "# Loss\n",
        "from torchrl.objectives import ClipPPOLoss, ValueEstimators\n",
        "\n",
        "# Utils\n",
        "torch.manual_seed(0)\n",
        "from matplotlib import pyplot as plt\n",
        "from tqdm import tqdm"
      ]
    },
    {
      "cell_type": "markdown",
      "metadata": {
        "id": "amAImBACZAy1"
      },
      "source": [
        "## Define Hyperparameters\n",
        "\n",
        "We set the hyperparameters for our tutorial.\n",
        "Depending on the resources\n",
        "available, one may choose to execute the policy and the simulator on GPU or on another\n",
        "device.\n",
        "You can tune some of these values to adjust the computational requirements.\n",
        "\n",
        "\n"
      ]
    },
    {
      "cell_type": "code",
      "execution_count": 3,
      "metadata": {
        "colab": {
          "base_uri": "https://localhost:8080/"
        },
        "id": "VYPrvFEsZAy2",
        "outputId": "6a621271-ec48-4caf-d8e7-103d50ed0e17"
      },
      "outputs": [],
      "source": [
        "# Devices\n",
        "is_fork = multiprocessing.get_start_method() == \"fork\"\n",
        "device = (\n",
        "    torch.device(0)\n",
        "    if torch.cuda.is_available() and not is_fork\n",
        "    else torch.device(\"cpu\")\n",
        ")\n",
        "vmas_device = device  # The device where the simulator is run (VMAS can run on GPU)\n",
        "\n",
        "# Sampling\n",
        "frames_per_batch = 6_000  # Number of team frames collected per training iteration\n",
        "n_iters = 10  # Number of sampling and training iterations\n",
        "total_frames = frames_per_batch * n_iters\n",
        "\n",
        "# Training\n",
        "num_epochs = 30  # Number of optimization steps per training iteration\n",
        "minibatch_size = 400  # Size of the mini-batches in each optimization step\n",
        "lr = 3e-4  # Learning rate\n",
        "max_grad_norm = 1.0  # Maximum norm for the gradients\n",
        "\n",
        "# PPO\n",
        "clip_epsilon = 0.2  # clip value for PPO loss\n",
        "gamma = 0.99  # discount factor\n",
        "lmbda = 0.9  # lambda for generalised advantage estimation\n",
        "entropy_eps = 1e-4  # coefficient of the entropy term in the PPO loss"
      ]
    },
    {
      "cell_type": "markdown",
      "metadata": {
        "id": "c_9Bz2oDZAy3"
      },
      "source": [
        "## Environment\n",
        "\n",
        "Multi-agent environments simulate multiple agents interacting with the world.\n",
        "TorchRL API allows integrating various types of multi-agent environment flavors.\n",
        "Some examples include environments with shared or individual agent rewards, done flags, and observations.\n",
        "For more information on how the multi-agent environments API works in TorchRL, you can check out the dedicated\n",
        "`doc section <MARL-environment-API>`.\n",
        "\n",
        "The VMAS simulator, in particular, models agents with individual rewards, info, observations, and actions, but\n",
        "with a collective done flag.\n",
        "Furthermore, it uses *vectorization* to perform simulation in a batch.\n",
        "This means that all its state and physics\n",
        "are PyTorch tensors with a first dimension representing the number of parallel environments in a batch.\n",
        "This allows leveraging the Single Instruction Multiple Data (SIMD) paradigm of GPUs and significantly\n",
        "speed up parallel computation by leveraging parallelization in GPU warps. It also means\n",
        "that, when using it in TorchRL, both simulation and training can be run on-device, without ever passing\n",
        "data to the CPU.\n",
        "\n",
        "The multi-agent task we will solve today is *Navigation* (see animated figure above).\n",
        "In *Navigation*, randomly spawned agents\n",
        "(circles with surrounding dots) need to navigate\n",
        "to randomly spawned goals (smaller circles).\n",
        "Agents need to use LIDARs (dots around them) to\n",
        "avoid colliding into each other.\n",
        "Agents act in a 2D continuous world with drag and elastic collisions.\n",
        "Their actions are 2D continuous forces which determine their acceleration.\n",
        "The reward is composed of three terms: a collision penalization, a reward based on the distance to the goal, and a\n",
        "final shared reward given when all agents reach their goal.\n",
        "The distance-based term is computed as the difference in the relative distance\n",
        "between an agent and its goal over two consecutive timesteps.\n",
        "Each agent observes its position,\n",
        "velocity, lidar readings, and relative position to its goal.\n",
        "\n",
        "We will now instantiate the environment.\n",
        "For this tutorial, we will limit the episodes to ``max_steps``, after which the done flag is set. This is\n",
        "functionality is already provided in the VMAS simulator but the TorchRL :class:`~.envs.transforms.StepCount`\n",
        "transform could alternatively be used.\n",
        "We will also use ``num_vmas_envs`` vectorized environments, to leverage batch simulation.\n",
        "\n",
        "\n",
        "\n"
      ]
    },
    {
      "cell_type": "code",
      "execution_count": 4,
      "metadata": {
        "id": "rth8KTQ3ZAy4"
      },
      "outputs": [],
      "source": [
        "max_steps = 100  # Episode steps before done\n",
        "num_vmas_envs = (\n",
        "    frames_per_batch // max_steps\n",
        ")  # Number of vectorized envs. frames_per_batch should be divisible by this number\n",
        "scenario_name = \"navigation\"\n",
        "n_agents = 3\n",
        "\n",
        "env = VmasEnv(\n",
        "    scenario=scenario_name,\n",
        "    num_envs=num_vmas_envs,\n",
        "    continuous_actions=True,  # VMAS supports both continuous and discrete actions\n",
        "    max_steps=max_steps,\n",
        "    device=vmas_device,\n",
        "    # Scenario kwargs\n",
        "    n_agents=n_agents,  # These are custom kwargs that change for each VMAS scenario, see the VMAS repo to know more.\n",
        ")"
      ]
    },
    {
      "cell_type": "markdown",
      "metadata": {
        "id": "bPsH7xxWZAy6"
      },
      "source": [
        "The environment is not only defined by its simulator and transforms, but also\n",
        "by a series of metadata that describe what can be expected during its\n",
        "execution.\n",
        "For efficiency purposes, TorchRL is quite stringent when it comes to\n",
        "environment specs, but you can easily check that your environment specs are\n",
        "adequate.\n",
        "In our example, the :class:`~.envs.libs.vmas.VmasEnv` takes care of setting the proper specs for your env so\n",
        "you should not have to care about this.\n",
        "\n",
        "There are four specs to look at:\n",
        "\n",
        "- ``action_spec`` defines the action space;\n",
        "- ``reward_spec`` defines the reward domain;\n",
        "- ``done_spec`` defines the done domain;\n",
        "- ``observation_spec`` which defines the domain of all other outputs from environment steps;\n",
        "\n",
        "\n",
        "\n"
      ]
    },
    {
      "cell_type": "code",
      "execution_count": 5,
      "metadata": {
        "colab": {
          "base_uri": "https://localhost:8080/"
        },
        "id": "GiNX1QxYZAy7",
        "outputId": "4b8463c4-0d43-48b2-b1e4-240d596c50cc"
      },
      "outputs": [
        {
          "name": "stdout",
          "output_type": "stream",
          "text": [
            "action_spec: CompositeSpec(\n",
            "    agents: CompositeSpec(\n",
            "        action: BoundedTensorSpec(\n",
            "            shape=torch.Size([60, 3, 2]),\n",
            "            space=ContinuousBox(\n",
            "                low=Tensor(shape=torch.Size([60, 3, 2]), device=cpu, dtype=torch.float32, contiguous=True),\n",
            "                high=Tensor(shape=torch.Size([60, 3, 2]), device=cpu, dtype=torch.float32, contiguous=True)),\n",
            "            device=cpu,\n",
            "            dtype=torch.float32,\n",
            "            domain=continuous),\n",
            "        device=cpu,\n",
            "        shape=torch.Size([60, 3])),\n",
            "    device=cpu,\n",
            "    shape=torch.Size([60]))\n",
            "reward_spec: CompositeSpec(\n",
            "    agents: CompositeSpec(\n",
            "        reward: UnboundedContinuousTensorSpec(\n",
            "            shape=torch.Size([60, 3, 1]),\n",
            "            space=None,\n",
            "            device=cpu,\n",
            "            dtype=torch.float32,\n",
            "            domain=continuous),\n",
            "        device=cpu,\n",
            "        shape=torch.Size([60, 3])),\n",
            "    device=cpu,\n",
            "    shape=torch.Size([60]))\n",
            "done_spec: CompositeSpec(\n",
            "    done: DiscreteTensorSpec(\n",
            "        shape=torch.Size([60, 1]),\n",
            "        space=DiscreteBox(n=2),\n",
            "        device=cpu,\n",
            "        dtype=torch.bool,\n",
            "        domain=discrete),\n",
            "    terminated: DiscreteTensorSpec(\n",
            "        shape=torch.Size([60, 1]),\n",
            "        space=DiscreteBox(n=2),\n",
            "        device=cpu,\n",
            "        dtype=torch.bool,\n",
            "        domain=discrete),\n",
            "    device=cpu,\n",
            "    shape=torch.Size([60]))\n",
            "observation_spec: CompositeSpec(\n",
            "    agents: CompositeSpec(\n",
            "        observation: UnboundedContinuousTensorSpec(\n",
            "            shape=torch.Size([60, 3, 18]),\n",
            "            space=None,\n",
            "            device=cpu,\n",
            "            dtype=torch.float32,\n",
            "            domain=continuous),\n",
            "        info: CompositeSpec(\n",
            "            pos_rew: UnboundedContinuousTensorSpec(\n",
            "                shape=torch.Size([60, 3, 1]),\n",
            "                space=None,\n",
            "                device=cpu,\n",
            "                dtype=torch.float32,\n",
            "                domain=continuous),\n",
            "            final_rew: UnboundedContinuousTensorSpec(\n",
            "                shape=torch.Size([60, 3, 1]),\n",
            "                space=None,\n",
            "                device=cpu,\n",
            "                dtype=torch.float32,\n",
            "                domain=continuous),\n",
            "            agent_collisions: UnboundedContinuousTensorSpec(\n",
            "                shape=torch.Size([60, 3, 1]),\n",
            "                space=None,\n",
            "                device=cpu,\n",
            "                dtype=torch.float32,\n",
            "                domain=continuous),\n",
            "            device=cpu,\n",
            "            shape=torch.Size([60, 3])),\n",
            "        device=cpu,\n",
            "        shape=torch.Size([60, 3])),\n",
            "    device=cpu,\n",
            "    shape=torch.Size([60]))\n"
          ]
        }
      ],
      "source": [
        "print(\"action_spec:\", env.full_action_spec)\n",
        "print(\"reward_spec:\", env.full_reward_spec)\n",
        "print(\"done_spec:\", env.full_done_spec)\n",
        "print(\"observation_spec:\", env.observation_spec)"
      ]
    },
    {
      "cell_type": "markdown",
      "metadata": {
        "id": "dhrGWzAOZAy8"
      },
      "source": [
        "Using the commands just shown we can access the domain of each value.\n",
        "Doing this we can see that all specs apart from done have a leading shape ``(num_vmas_envs, n_agents)``.\n",
        "This represents the fact that those values will be present for each agent in each individual environment.\n",
        "The done spec, on the other hand, has leading shape ``num_vmas_envs``, representing that done is shared among\n",
        "agents.\n",
        "\n",
        "TorchRL has a way to keep track of which MARL specs are shared and which are not.\n",
        "In fact, specs that have the additional agent dimension\n",
        "(i.e., they vary for each agent) will be contained in a inner \"agents\" key.\n",
        "\n",
        "As you can see the reward and action spec present the \"agent\" key,\n",
        "meaning that entries in tensordicts belonging to those specs will be nested in an \"agents\" tensordict,\n",
        "grouping all per-agent values.\n",
        "\n",
        "To quickly access the keys for each of these values in tensordicts, we can simply ask the environment for the\n",
        "respective keys, and\n",
        "we will immediately understand which are per-agent and which shared.\n",
        "This info will be useful in order to tell all other TorchRL components where to find each value\n",
        "\n",
        "\n"
      ]
    },
    {
      "cell_type": "code",
      "execution_count": 6,
      "metadata": {
        "colab": {
          "base_uri": "https://localhost:8080/"
        },
        "id": "_IQxCuSEZAy9",
        "outputId": "9ca50a56-2a19-437c-e51e-a612b30cb164"
      },
      "outputs": [
        {
          "name": "stdout",
          "output_type": "stream",
          "text": [
            "action_keys: [('agents', 'action')]\n",
            "reward_keys: [('agents', 'reward')]\n",
            "done_keys: ['done', 'terminated']\n"
          ]
        }
      ],
      "source": [
        "print(\"action_keys:\", env.action_keys)\n",
        "print(\"reward_keys:\", env.reward_keys)\n",
        "print(\"done_keys:\", env.done_keys)"
      ]
    },
    {
      "cell_type": "markdown",
      "metadata": {
        "id": "ngQkXImBZAy9"
      },
      "source": [
        "### Transforms\n",
        "\n",
        "We can append any TorchRL transform we need to our environment.\n",
        "These will modify its input/output in some desired way.\n",
        "We stress that, in multi-agent contexts, it is paramount to provide explicitly the keys to modify.\n",
        "\n",
        "For example, in this case, we will instantiate a ``RewardSum`` transform which will sum rewards over the episode.\n",
        "We will tell this transform where to find the reward key and where to write the summed episode reward.\n",
        "The transformed environment will inherit\n",
        "the device and meta-data of the wrapped environment, and transform these depending on the sequence\n",
        "of transforms it contains.\n",
        "\n",
        "\n"
      ]
    },
    {
      "cell_type": "code",
      "execution_count": 7,
      "metadata": {
        "id": "I_i3wP4tZAy9"
      },
      "outputs": [],
      "source": [
        "env = TransformedEnv(\n",
        "    env,\n",
        "    RewardSum(in_keys=[env.reward_key], out_keys=[(\"agents\", \"episode_reward\")]),\n",
        ")"
      ]
    },
    {
      "cell_type": "markdown",
      "metadata": {
        "id": "9v7H9CUJZAy-"
      },
      "source": [
        "the :func:`check_env_specs` function runs a small rollout and compares its output against the environment\n",
        "specs. If no error is raised, we can be confident that the specs are properly defined:\n",
        "\n",
        "\n"
      ]
    },
    {
      "cell_type": "code",
      "execution_count": null,
      "metadata": {
        "colab": {
          "base_uri": "https://localhost:8080/"
        },
        "id": "fUIU8yEkZAy-",
        "outputId": "73145f34-4f3c-4d27-f602-0b993e0902d6"
      },
      "outputs": [
        {
          "name": "stderr",
          "output_type": "stream",
          "text": [
            "2024-10-14 17:55:57,174 [torchrl][INFO] check_env_specs succeeded!\n"
          ]
        }
      ],
      "source": [
        "check_env_specs(env)"
      ]
    },
    {
      "cell_type": "markdown",
      "metadata": {
        "id": "4EUsTzN7ZAy-"
      },
      "source": [
        "### Rollout\n",
        "\n",
        "For fun, let's see what a simple random rollout looks like. You can\n",
        "call `env.rollout(n_steps)` and get an overview of what the environment inputs\n",
        "and outputs look like. Actions will automatically be drawn at random from the action spec\n",
        "domain.\n",
        "\n",
        "\n"
      ]
    },
    {
      "cell_type": "code",
      "execution_count": null,
      "metadata": {
        "colab": {
          "base_uri": "https://localhost:8080/"
        },
        "id": "yE2jT7yaZAzF",
        "outputId": "f9e8e220-f3df-449a-f3dd-ca1fe6e101be"
      },
      "outputs": [
        {
          "name": "stdout",
          "output_type": "stream",
          "text": [
            "rollout of three steps: TensorDict(\n",
            "    fields={\n",
            "        agents: TensorDict(\n",
            "            fields={\n",
            "                action: Tensor(shape=torch.Size([60, 5, 3, 2]), device=cpu, dtype=torch.float32, is_shared=False),\n",
            "                episode_reward: Tensor(shape=torch.Size([60, 5, 3, 1]), device=cpu, dtype=torch.float32, is_shared=False),\n",
            "                info: TensorDict(\n",
            "                    fields={\n",
            "                        agent_collisions: Tensor(shape=torch.Size([60, 5, 3, 1]), device=cpu, dtype=torch.float32, is_shared=False),\n",
            "                        final_rew: Tensor(shape=torch.Size([60, 5, 3, 1]), device=cpu, dtype=torch.float32, is_shared=False),\n",
            "                        pos_rew: Tensor(shape=torch.Size([60, 5, 3, 1]), device=cpu, dtype=torch.float32, is_shared=False)},\n",
            "                    batch_size=torch.Size([60, 5, 3]),\n",
            "                    device=cpu,\n",
            "                    is_shared=False),\n",
            "                observation: Tensor(shape=torch.Size([60, 5, 3, 18]), device=cpu, dtype=torch.float32, is_shared=False)},\n",
            "            batch_size=torch.Size([60, 5, 3]),\n",
            "            device=cpu,\n",
            "            is_shared=False),\n",
            "        done: Tensor(shape=torch.Size([60, 5, 1]), device=cpu, dtype=torch.bool, is_shared=False),\n",
            "        next: TensorDict(\n",
            "            fields={\n",
            "                agents: TensorDict(\n",
            "                    fields={\n",
            "                        episode_reward: Tensor(shape=torch.Size([60, 5, 3, 1]), device=cpu, dtype=torch.float32, is_shared=False),\n",
            "                        info: TensorDict(\n",
            "                            fields={\n",
            "                                agent_collisions: Tensor(shape=torch.Size([60, 5, 3, 1]), device=cpu, dtype=torch.float32, is_shared=False),\n",
            "                                final_rew: Tensor(shape=torch.Size([60, 5, 3, 1]), device=cpu, dtype=torch.float32, is_shared=False),\n",
            "                                pos_rew: Tensor(shape=torch.Size([60, 5, 3, 1]), device=cpu, dtype=torch.float32, is_shared=False)},\n",
            "                            batch_size=torch.Size([60, 5, 3]),\n",
            "                            device=cpu,\n",
            "                            is_shared=False),\n",
            "                        observation: Tensor(shape=torch.Size([60, 5, 3, 18]), device=cpu, dtype=torch.float32, is_shared=False),\n",
            "                        reward: Tensor(shape=torch.Size([60, 5, 3, 1]), device=cpu, dtype=torch.float32, is_shared=False)},\n",
            "                    batch_size=torch.Size([60, 5, 3]),\n",
            "                    device=cpu,\n",
            "                    is_shared=False),\n",
            "                done: Tensor(shape=torch.Size([60, 5, 1]), device=cpu, dtype=torch.bool, is_shared=False),\n",
            "                terminated: Tensor(shape=torch.Size([60, 5, 1]), device=cpu, dtype=torch.bool, is_shared=False)},\n",
            "            batch_size=torch.Size([60, 5]),\n",
            "            device=cpu,\n",
            "            is_shared=False),\n",
            "        terminated: Tensor(shape=torch.Size([60, 5, 1]), device=cpu, dtype=torch.bool, is_shared=False)},\n",
            "    batch_size=torch.Size([60, 5]),\n",
            "    device=cpu,\n",
            "    is_shared=False)\n",
            "Shape of the rollout TensorDict: torch.Size([60, 5])\n"
          ]
        }
      ],
      "source": [
        "n_rollout_steps = 5\n",
        "rollout = env.rollout(n_rollout_steps)\n",
        "print(\"rollout of three steps:\", rollout)\n",
        "print(\"Shape of the rollout TensorDict:\", rollout.batch_size)"
      ]
    },
    {
      "cell_type": "markdown",
      "metadata": {
        "id": "hl4Raap2ZAzG"
      },
      "source": [
        "We can see that our rollout has ``batch_size`` of ``(num_vmas_envs, n_rollout_steps)``.\n",
        "This means that all the tensors in it will have those leading dimensions.\n",
        "\n",
        "Looking more in depth, we can see that the output tensordict can be divided in the following way:\n",
        "\n",
        "- *In the root* (accessible by running ``rollout.exclude(\"next\")`` ) we will find all the keys that are available\n",
        "  after a reset is called at the first timestep. We can see their evolution through the rollout steps by indexing\n",
        "  the ``n_rollout_steps`` dimension. Among these keys, we will find the ones that are different for each agent\n",
        "  in the ``rollout[\"agents\"]`` tensordict, which will have batch size ``(num_vmas_envs, n_rollout_steps, n_agents)``\n",
        "  signifying that it is storing the additional agent dimension. The ones outside this agent tensordict\n",
        "  will be the shared ones (in this case only done).\n",
        "- *In the next* (accessible by running ``rollout.get(\"next\")`` ). We will find the same structure as the root,\n",
        "  but for keys that are available only after a step.\n",
        "\n",
        "In TorchRL the convention is that done and observations will be present in both root and next (as these are\n",
        "available both at reset time and after a step). Action will only be available in root (as there is no action\n",
        "resulting from a step) and reward will only be available in next (as there is no reward at reset time).\n",
        "This structure follows the one in **Reinforcement Learning: An Introduction (Sutton and Barto)** where root represents data at time $t$ and\n",
        "next represents data at time $t+1$ of a world step.\n",
        "\n",
        "\n",
        "### Render a random rollout\n",
        "\n",
        "If you are on Google Colab, or on a machine with OpenGL and a GUI, you can actually render a random rollout.\n",
        "This will give you an idea of what a random policy will achieve in this task, in order to compare it\n",
        "with the policy you will train yourself!\n",
        "\n",
        "To render a rollout, follow the instructions in the *Render* section at the end of this tutorial\n",
        "and just remove the line ``policy=policy`` from ``env.rollout()`` .\n",
        "\n",
        "\n",
        "## Policy\n",
        "\n",
        "PPO utilises a stochastic policy to handle exploration. This means that our\n",
        "neural network will have to output the parameters of a distribution, rather\n",
        "than a single value corresponding to the action taken.\n",
        "\n",
        "As the data is continuous, we use a Tanh-Normal distribution to respect the\n",
        "action space boundaries. TorchRL provides such distribution, and the only\n",
        "thing we need to care about is to build a neural network that outputs the\n",
        "right number of parameters.\n",
        "\n",
        "In this case, each agent's action will be represented by a 2-dimensional independent normal distribution.\n",
        "For this, our neural network will have to output a mean and a standard deviation for each action.\n",
        "Each agent will thus have ``2 * n_actions_per_agents`` outputs.\n",
        "\n",
        "Another important decision we need to make is whether we want our agents to **share the policy parameters**.\n",
        "On the one hand, sharing parameters means that they will all share the same policy, which will allow them to benefit from\n",
        "each other's experiences. This will also result in faster training.\n",
        "On the other hand, it will make them behaviorally *homogenous*, as they will in fact share the same model.\n",
        "For this example, we will enable sharing as we do not mind the homogeneity and can benefit from the computational\n",
        "speed, but it is important to always think about this decision in your own problems!\n",
        "\n",
        "We design the policy in three steps.\n",
        "\n",
        "**First**: define a neural network ``n_obs_per_agent`` -> ``2 * n_actions_per_agents``\n",
        "\n",
        "For this we use the ``MultiAgentMLP``, a TorchRL module made exactly for\n",
        "multiple agents, with much customization available.\n",
        "\n",
        "\n"
      ]
    },
    {
      "cell_type": "code",
      "execution_count": 10,
      "metadata": {
        "id": "M3YF1V7RZAzH"
      },
      "outputs": [],
      "source": [
        "share_parameters_policy = True\n",
        "\n",
        "policy_net = torch.nn.Sequential(\n",
        "    MultiAgentMLP(\n",
        "        n_agent_inputs=env.observation_spec[\"agents\", \"observation\"].shape[\n",
        "            -1\n",
        "        ],  # n_obs_per_agent\n",
        "        n_agent_outputs=2 * env.action_spec.shape[-1],  # 2 * n_actions_per_agents\n",
        "        n_agents=env.n_agents,\n",
        "        centralised=False,  # the policies are decentralised (ie each agent will act from its observation)\n",
        "        share_params=share_parameters_policy,\n",
        "        device=device,\n",
        "        depth=2,\n",
        "        num_cells=256,\n",
        "        activation_class=torch.nn.Tanh,\n",
        "    ),\n",
        "    NormalParamExtractor(),  # this will just separate the last dimension into two outputs: a loc and a non-negative scale\n",
        ")"
      ]
    },
    {
      "cell_type": "markdown",
      "metadata": {
        "id": "FVjShOFmZAzH"
      },
      "source": [
        "**Second**: wrap the neural network in a :class:`TensorDictModule`\n",
        "\n",
        "This is simply a module that will read the ``in_keys`` from a tensordict, feed them to the\n",
        "neural networks, and write the\n",
        "outputs in-place at the ``out_keys``.\n",
        "\n",
        "Note that we use ``(\"agents\", ...)`` keys as these keys are denoting data with the\n",
        "additional ``n_agents`` dimension.\n",
        "\n",
        "\n"
      ]
    },
    {
      "cell_type": "code",
      "execution_count": 11,
      "metadata": {
        "id": "Dl9PJbxLZAzI"
      },
      "outputs": [],
      "source": [
        "policy_module = TensorDictModule(\n",
        "    policy_net,\n",
        "    in_keys=[(\"agents\", \"observation\")],\n",
        "    out_keys=[(\"agents\", \"loc\"), (\"agents\", \"scale\")],\n",
        ")"
      ]
    },
    {
      "cell_type": "markdown",
      "metadata": {
        "id": "V5sUzxTFZAzI"
      },
      "source": [
        "**Third**: wrap the :class:`TensorDictModule` in a :class:`ProbabilisticActor`\n",
        "\n",
        "We now need to build a distribution out of the location and scale of our\n",
        "normal distribution. To do so, we instruct the :class:`ProbabilisticActor`\n",
        "class to build a :class:`TanhNormal` out of the location and scale\n",
        "parameters. We also provide the minimum and maximum values of this\n",
        "distribution, which we gather from the environment specs.\n",
        "\n",
        "The name of the ``in_keys`` (and hence the name of the ``out_keys`` from\n",
        "the :class:`TensorDictModule` above) has to end with the\n",
        ":class:`TanhNormal` distribution constructor keyword arguments (loc and scale).\n",
        "\n",
        "\n"
      ]
    },
    {
      "cell_type": "code",
      "execution_count": 12,
      "metadata": {
        "id": "ibMX1uC6ZAzI"
      },
      "outputs": [],
      "source": [
        "policy = ProbabilisticActor(\n",
        "    module=policy_module,\n",
        "    spec=env.unbatched_action_spec,\n",
        "    in_keys=[(\"agents\", \"loc\"), (\"agents\", \"scale\")],\n",
        "    out_keys=[env.action_key],\n",
        "    distribution_class=TanhNormal,\n",
        "    distribution_kwargs={\n",
        "        \"low\": env.unbatched_action_spec[env.action_key].space.low,\n",
        "        \"high\": env.unbatched_action_spec[env.action_key].space.high,\n",
        "    },\n",
        "    return_log_prob=True,\n",
        "    log_prob_key=(\"agents\", \"sample_log_prob\"),\n",
        ")  # we'll need the log-prob for the PPO loss"
      ]
    },
    {
      "cell_type": "markdown",
      "metadata": {
        "id": "bld3C9dUZAzI"
      },
      "source": [
        "## Critic network\n",
        "\n",
        "The critic network is a crucial component of the PPO algorithm, even though it\n",
        "isn't used at sampling time. This module will read the observations and\n",
        "return the corresponding value estimates.\n",
        "\n",
        "As before, one should think carefully about the decision of **sharing the critic parameters**.\n",
        "In general, parameter sharing will grant faster training convergence, but there are a few important\n",
        "considerations to be made:\n",
        "\n",
        "- Sharing is not recommended when agents have different reward functions, as the critics will need to learn\n",
        "  to assign different values to the same state (e.g., in mixed cooperative-competitive settings).\n",
        "- In decentralised training settings, sharing cannot be performed without additional infrastructure to\n",
        "  synchronise parameters.\n",
        "\n",
        "In all other cases where the reward function (to be differentiated from the reward) is the same for all agents\n",
        "(as in the current scenario),\n",
        "sharing can provide improved performance. This can come at the cost of homogeneity in the agent strategies.\n",
        "In general, the best way to know which choice is preferable is to quickly experiment both options.\n",
        "\n",
        "Here is also where we have to choose between **MAPPO and IPPO**:\n",
        "\n",
        "- With MAPPO, we will obtain a central critic with full-observability\n",
        "  (i.e., it will take all the concatenated agent observations as input).\n",
        "  We can do this because we are in a simulator\n",
        "  and training is centralised.\n",
        "- With IPPO, we will have a local decentralised critic, just like the policy.\n",
        "\n",
        "In any case, the critic output will have shape ``(..., n_agents, 1)``.\n",
        "If the critic is centralised and shared,\n",
        "all the values along the ``n_agents`` dimension will be identical.\n",
        "\n",
        "\n"
      ]
    },
    {
      "cell_type": "code",
      "execution_count": 13,
      "metadata": {
        "id": "iW5iShS2ZAzI"
      },
      "outputs": [],
      "source": [
        "share_parameters_critic = True\n",
        "mappo = True  # IPPO if False\n",
        "\n",
        "critic_net = MultiAgentMLP(\n",
        "    n_agent_inputs=env.observation_spec[\"agents\", \"observation\"].shape[-1],\n",
        "    n_agent_outputs=1,  # 1 value per agent\n",
        "    n_agents=env.n_agents,\n",
        "    centralised=mappo,\n",
        "    share_params=share_parameters_critic,\n",
        "    device=device,\n",
        "    depth=2,\n",
        "    num_cells=256,\n",
        "    activation_class=torch.nn.Tanh,\n",
        ")\n",
        "\n",
        "critic = TensorDictModule(\n",
        "    module=critic_net,\n",
        "    in_keys=[(\"agents\", \"observation\")],\n",
        "    out_keys=[(\"agents\", \"state_value\")],\n",
        ")"
      ]
    },
    {
      "cell_type": "markdown",
      "metadata": {
        "id": "GzYpCcp4ZAzJ"
      },
      "source": [
        "Let us try our policy and critic modules. As pointed earlier, the usage of\n",
        ":class:`TensorDictModule` makes it possible to directly read the output\n",
        "of the environment to run these modules, as they know what information to read\n",
        "and where to write it:\n",
        "\n",
        "**From this point on, the multi-agent-specific components have been instantiated, and we will simply use the same\n",
        "components as in single-agent learning. Isn't this fantastic?**\n",
        "\n",
        "\n"
      ]
    },
    {
      "cell_type": "code",
      "execution_count": null,
      "metadata": {
        "colab": {
          "base_uri": "https://localhost:8080/"
        },
        "id": "PluFSwWWZAzJ",
        "outputId": "2a38dfdc-8a28-48fd-8d72-83db023f3518"
      },
      "outputs": [
        {
          "name": "stdout",
          "output_type": "stream",
          "text": [
            "Running policy: TensorDict(\n",
            "    fields={\n",
            "        agents: TensorDict(\n",
            "            fields={\n",
            "                action: Tensor(shape=torch.Size([60, 3, 2]), device=cpu, dtype=torch.float32, is_shared=False),\n",
            "                episode_reward: Tensor(shape=torch.Size([60, 3, 1]), device=cpu, dtype=torch.float32, is_shared=False),\n",
            "                info: TensorDict(\n",
            "                    fields={\n",
            "                        agent_collisions: Tensor(shape=torch.Size([60, 3, 1]), device=cpu, dtype=torch.float32, is_shared=False),\n",
            "                        final_rew: Tensor(shape=torch.Size([60, 3, 1]), device=cpu, dtype=torch.float32, is_shared=False),\n",
            "                        pos_rew: Tensor(shape=torch.Size([60, 3, 1]), device=cpu, dtype=torch.float32, is_shared=False)},\n",
            "                    batch_size=torch.Size([60, 3]),\n",
            "                    device=cpu,\n",
            "                    is_shared=False),\n",
            "                loc: Tensor(shape=torch.Size([60, 3, 2]), device=cpu, dtype=torch.float32, is_shared=False),\n",
            "                observation: Tensor(shape=torch.Size([60, 3, 18]), device=cpu, dtype=torch.float32, is_shared=False),\n",
            "                sample_log_prob: Tensor(shape=torch.Size([60, 3]), device=cpu, dtype=torch.float32, is_shared=False),\n",
            "                scale: Tensor(shape=torch.Size([60, 3, 2]), device=cpu, dtype=torch.float32, is_shared=False)},\n",
            "            batch_size=torch.Size([60, 3]),\n",
            "            device=cpu,\n",
            "            is_shared=False),\n",
            "        done: Tensor(shape=torch.Size([60, 1]), device=cpu, dtype=torch.bool, is_shared=False),\n",
            "        terminated: Tensor(shape=torch.Size([60, 1]), device=cpu, dtype=torch.bool, is_shared=False)},\n",
            "    batch_size=torch.Size([60]),\n",
            "    device=cpu,\n",
            "    is_shared=False)\n",
            "Running value: TensorDict(\n",
            "    fields={\n",
            "        agents: TensorDict(\n",
            "            fields={\n",
            "                episode_reward: Tensor(shape=torch.Size([60, 3, 1]), device=cpu, dtype=torch.float32, is_shared=False),\n",
            "                info: TensorDict(\n",
            "                    fields={\n",
            "                        agent_collisions: Tensor(shape=torch.Size([60, 3, 1]), device=cpu, dtype=torch.float32, is_shared=False),\n",
            "                        final_rew: Tensor(shape=torch.Size([60, 3, 1]), device=cpu, dtype=torch.float32, is_shared=False),\n",
            "                        pos_rew: Tensor(shape=torch.Size([60, 3, 1]), device=cpu, dtype=torch.float32, is_shared=False)},\n",
            "                    batch_size=torch.Size([60, 3]),\n",
            "                    device=cpu,\n",
            "                    is_shared=False),\n",
            "                observation: Tensor(shape=torch.Size([60, 3, 18]), device=cpu, dtype=torch.float32, is_shared=False),\n",
            "                state_value: Tensor(shape=torch.Size([60, 3, 1]), device=cpu, dtype=torch.float32, is_shared=False)},\n",
            "            batch_size=torch.Size([60, 3]),\n",
            "            device=cpu,\n",
            "            is_shared=False),\n",
            "        done: Tensor(shape=torch.Size([60, 1]), device=cpu, dtype=torch.bool, is_shared=False),\n",
            "        terminated: Tensor(shape=torch.Size([60, 1]), device=cpu, dtype=torch.bool, is_shared=False)},\n",
            "    batch_size=torch.Size([60]),\n",
            "    device=cpu,\n",
            "    is_shared=False)\n"
          ]
        }
      ],
      "source": [
        "print(\"Running policy:\", policy(env.reset()))\n",
        "print(\"Running value:\", critic(env.reset()))"
      ]
    },
    {
      "cell_type": "markdown",
      "metadata": {
        "id": "BUlsqPYKZAzJ"
      },
      "source": [
        "## Data collector\n",
        "\n",
        "TorchRL provides a set of data collector classes. Briefly, these\n",
        "classes execute three operations: reset an environment, compute an action\n",
        "using the policy and the latest observation, execute a step in the environment, and repeat\n",
        "the last two steps until the environment signals a stop (or reaches a done\n",
        "state).\n",
        "\n",
        "We will use the simplest possible data collector, which has the same output as an environment rollout,\n",
        "with the only difference that it will auto reset done states until the desired frames are collected.\n",
        "\n",
        "\n"
      ]
    },
    {
      "cell_type": "code",
      "execution_count": 15,
      "metadata": {
        "id": "Nn_BUghQZAzK"
      },
      "outputs": [],
      "source": [
        "collector = SyncDataCollector(\n",
        "    env,\n",
        "    policy,\n",
        "    device=vmas_device,\n",
        "    storing_device=device,\n",
        "    frames_per_batch=frames_per_batch,\n",
        "    total_frames=total_frames,\n",
        ")"
      ]
    },
    {
      "cell_type": "markdown",
      "metadata": {
        "id": "C5CqIi88ZAzK"
      },
      "source": [
        "## Replay buffer\n",
        "\n",
        "Replay buffers are a common building piece of off-policy RL algorithms.\n",
        "In on-policy contexts, a replay buffer is refilled every time a batch of\n",
        "data is collected, and its data is repeatedly consumed for a certain number\n",
        "of epochs.\n",
        "\n",
        "Using a replay buffer for PPO is not mandatory and we could simply\n",
        "use the collected data online, but using these classes\n",
        "makes it easy for us to build the inner training loop in a reproducible way.\n",
        "\n",
        "\n"
      ]
    },
    {
      "cell_type": "code",
      "execution_count": 16,
      "metadata": {
        "id": "USnsSwzBZAzL"
      },
      "outputs": [],
      "source": [
        "replay_buffer = ReplayBuffer(\n",
        "    storage=LazyTensorStorage(\n",
        "        frames_per_batch, device=device\n",
        "    ),  # We store the frames_per_batch collected at each iteration\n",
        "    sampler=SamplerWithoutReplacement(),\n",
        "    batch_size=minibatch_size,  # We will sample minibatches of this size\n",
        ")"
      ]
    },
    {
      "cell_type": "markdown",
      "metadata": {
        "id": "PARqBoYPZAzL"
      },
      "source": [
        "## Loss function\n",
        "\n",
        "The PPO loss can be directly imported from TorchRL for convenience using the\n",
        ":class:`~.objectives.ClipPPOLoss` class. This is the easiest way of utilising PPO:\n",
        "it hides away the mathematical operations of PPO and the control flow that\n",
        "goes with it.\n",
        "\n",
        "PPO requires some \"advantage estimation\" to be computed. In short, an advantage\n",
        "is a value that reflects an expectancy over the return value while dealing with\n",
        "the bias / variance tradeoff.\n",
        "To compute the advantage, one just needs to (1) build the advantage module, which\n",
        "utilises our value operator, and (2) pass each batch of data through it before each\n",
        "epoch.\n",
        "The GAE module will update the input :class:`TensorDict` with new ``\"advantage\"`` and\n",
        "``\"value_target\"`` entries.\n",
        "The ``\"value_target\"`` is a gradient-free tensor that represents the empirical\n",
        "value that the value network should represent with the input observation.\n",
        "Both of these will be used by :class:`ClipPPOLoss` to\n",
        "return the policy and value losses.\n",
        "\n",
        "\n"
      ]
    },
    {
      "cell_type": "code",
      "execution_count": 17,
      "metadata": {
        "id": "rCU1iI2OZAzL"
      },
      "outputs": [],
      "source": [
        "loss_module = ClipPPOLoss(\n",
        "    actor_network=policy,\n",
        "    critic_network=critic,\n",
        "    clip_epsilon=clip_epsilon,\n",
        "    entropy_coef=entropy_eps,\n",
        "    normalize_advantage=False,  # Important to avoid normalizing across the agent dimension\n",
        ")\n",
        "loss_module.set_keys(  # We have to tell the loss where to find the keys\n",
        "    reward=env.reward_key,\n",
        "    action=env.action_key,\n",
        "    sample_log_prob=(\"agents\", \"sample_log_prob\"),\n",
        "    value=(\"agents\", \"state_value\"),\n",
        "    # These last 2 keys will be expanded to match the reward shape\n",
        "    done=(\"agents\", \"done\"),\n",
        "    terminated=(\"agents\", \"terminated\"),\n",
        ")\n",
        "\n",
        "\n",
        "loss_module.make_value_estimator(\n",
        "    ValueEstimators.GAE, gamma=gamma, lmbda=lmbda\n",
        ")  # We build GAE\n",
        "GAE = loss_module.value_estimator\n",
        "\n",
        "optim = torch.optim.Adam(loss_module.parameters(), lr)"
      ]
    },
    {
      "cell_type": "markdown",
      "metadata": {
        "id": "jt1uSuJ2ZAzM"
      },
      "source": [
        "## Training loop\n",
        "We now have all the pieces needed to code our training loop.\n",
        "The steps include:\n",
        "\n",
        "* Collect data\n",
        "    * Compute advantage\n",
        "        * Loop over epochs\n",
        "            * Loop over minibatches to compute loss values\n",
        "                * Back propagate\n",
        "                * Optimise\n",
        "            * Repeat\n",
        "        * Repeat\n",
        "    * Repeat\n",
        "* Repeat\n",
        "\n",
        "\n",
        "\n"
      ]
    },
    {
      "cell_type": "code",
      "execution_count": 18,
      "metadata": {
        "colab": {
          "base_uri": "https://localhost:8080/"
        },
        "id": "SJ5oOttrZAzM",
        "outputId": "ac7e86a2-e2c0-4776-9260-209f060ffcf8"
      },
      "outputs": [
        {
          "name": "stderr",
          "output_type": "stream",
          "text": [
            "episode_reward_mean = 2.7585394382476807: 100%|██████████| 10/10 [00:53<00:00,  5.29s/it]"
          ]
        }
      ],
      "source": [
        "pbar = tqdm(total=n_iters, desc=\"episode_reward_mean = 0\")\n",
        "\n",
        "episode_reward_mean_list = []\n",
        "for tensordict_data in collector:\n",
        "    tensordict_data.set(\n",
        "        (\"next\", \"agents\", \"done\"),\n",
        "        tensordict_data.get((\"next\", \"done\"))\n",
        "        .unsqueeze(-1)\n",
        "        .expand(tensordict_data.get_item_shape((\"next\", env.reward_key))),\n",
        "    )\n",
        "    tensordict_data.set(\n",
        "        (\"next\", \"agents\", \"terminated\"),\n",
        "        tensordict_data.get((\"next\", \"terminated\"))\n",
        "        .unsqueeze(-1)\n",
        "        .expand(tensordict_data.get_item_shape((\"next\", env.reward_key))),\n",
        "    )\n",
        "    # We need to expand the done and terminated to match the reward shape (this is expected by the value estimator)\n",
        "\n",
        "    with torch.no_grad():\n",
        "        GAE(\n",
        "            tensordict_data,\n",
        "            params=loss_module.critic_network_params,\n",
        "            target_params=loss_module.target_critic_network_params,\n",
        "        )  # Compute GAE and add it to the data\n",
        "\n",
        "    data_view = tensordict_data.reshape(-1)  # Flatten the batch size to shuffle data\n",
        "    replay_buffer.extend(data_view)\n",
        "\n",
        "    for _ in range(num_epochs):\n",
        "        for _ in range(frames_per_batch // minibatch_size):\n",
        "            subdata = replay_buffer.sample()\n",
        "            loss_vals = loss_module(subdata)\n",
        "\n",
        "            loss_value = (\n",
        "                loss_vals[\"loss_objective\"]\n",
        "                + loss_vals[\"loss_critic\"]\n",
        "                + loss_vals[\"loss_entropy\"]\n",
        "            )\n",
        "\n",
        "            loss_value.backward()\n",
        "\n",
        "            torch.nn.utils.clip_grad_norm_(\n",
        "                loss_module.parameters(), max_grad_norm\n",
        "            )  # Optional\n",
        "\n",
        "            optim.step()\n",
        "            optim.zero_grad()\n",
        "\n",
        "    collector.update_policy_weights_()\n",
        "\n",
        "    # Logging\n",
        "    done = tensordict_data.get((\"next\", \"agents\", \"done\"))\n",
        "    episode_reward_mean = (\n",
        "        tensordict_data.get((\"next\", \"agents\", \"episode_reward\"))[done].mean().item()\n",
        "    )\n",
        "    episode_reward_mean_list.append(episode_reward_mean)\n",
        "    pbar.set_description(f\"episode_reward_mean = {episode_reward_mean}\", refresh=False)\n",
        "    pbar.update()"
      ]
    },
    {
      "cell_type": "markdown",
      "metadata": {
        "id": "MQA2tc2iZAzM"
      },
      "source": [
        "## Results\n",
        "\n",
        "Let's plot the mean reward obtained per episode\n",
        "\n",
        "To make training last longer, increase the ``n_iters`` hyperparameter.\n",
        "\n",
        "\n"
      ]
    },
    {
      "cell_type": "code",
      "execution_count": 19,
      "metadata": {
        "colab": {
          "base_uri": "https://localhost:8080/",
          "height": 472
        },
        "id": "dozJgbo1ZAzN",
        "outputId": "1a41cc67-1660-4d2d-c410-c993b6deee4e"
      },
      "outputs": [
        {
          "data": {
            "image/png": "[encoded data removed]",
            "text/plain": [
              "<Figure size 640x480 with 1 Axes>"
            ]
          },
          "metadata": {},
          "output_type": "display_data"
        }
      ],
      "source": [
        "plt.plot(episode_reward_mean_list)\n",
        "plt.xlabel(\"Training iterations\")\n",
        "plt.ylabel(\"Reward\")\n",
        "plt.title(\"Episode reward mean\")\n",
        "plt.show()"
      ]
    },
    {
      "cell_type": "markdown",
      "metadata": {
        "id": "Y15c99IMZAzN"
      },
      "source": [
        "## Render\n",
        "\n",
        "If you are running this in a machine with GUI, you can render the trained policy by running:\n",
        "\n",
        "```python\n",
        "with torch.no_grad():\n",
        "   env.rollout(\n",
        "       max_steps=max_steps,\n",
        "       policy=policy,\n",
        "       callback=lambda env, _: env.render(),\n",
        "       auto_cast_to_device=True,\n",
        "       break_when_any_done=False,\n",
        "   )\n",
        "```\n",
        "If you are running this in Google Colab, you can render the trained policy by running:\n",
        "\n",
        "```bash\n",
        "!apt-get update\n",
        "!apt-get install -y x11-utils\n",
        "!apt-get install -y xvfb\n",
        "!pip install pyvirtualdisplay\n",
        "```\n",
        "```python\n",
        "import pyvirtualdisplay\n",
        "display = pyvirtualdisplay.Display(visible=False, size=(1400, 900))\n",
        "display.start()\n",
        "from PIL import Image\n",
        "\n",
        "def rendering_callback(env, td):\n",
        "    env.frames.append(Image.fromarray(env.render(mode=\"rgb_array\")))\n",
        "env.frames = []\n",
        "with torch.no_grad():\n",
        "   env.rollout(\n",
        "       max_steps=max_steps,\n",
        "       policy=policy,\n",
        "       callback=rendering_callback,\n",
        "       auto_cast_to_device=True,\n",
        "       break_when_any_done=False,\n",
        "   )\n",
        "env.frames[0].save(\n",
        "    f\"{scenario_name}.gif\",\n",
        "    save_all=True,\n",
        "    append_images=env.frames[1:],\n",
        "   duration=3,\n",
        "   loop=0,\n",
        ")\n",
        "\n",
        "from IPython.display import Image\n",
        "Image(open(f\"{scenario_name}.gif\", \"rb\").read())\n",
        "```\n"
      ]
    },
    {
      "cell_type": "code",
      "execution_count": 20,
      "metadata": {
        "colab": {
          "base_uri": "https://localhost:8080/"
        },
        "id": "xebW_0AxbGrz",
        "outputId": "bc050c88-93d8-4937-cf3d-cd46c9faa786"
      },
      "outputs": [
        {
          "name": "stderr",
          "output_type": "stream",
          "text": [
            "/home/lumin/miniconda3/lib/python3.12/pty.py:95: DeprecationWarning: This process (pid=233995) is multi-threaded, use of forkpty() may lead to deadlocks in the child.\n",
            "  pid, fd = os.forkpty()\n"
          ]
        },
        {
          "name": "stdout",
          "output_type": "stream",
          "text": [
            "Reading package lists... Done\n",
            "E: Could not open lock file /var/lib/apt/lists/lock - open (13: Permission denied)\n",
            "E: Unable to lock directory /var/lib/apt/lists/\n",
            "W: Problem unlinking the file /var/cache/apt/pkgcache.bin - RemoveCaches (13: Permission denied)\n",
            "W: Problem unlinking the file /var/cache/apt/srcpkgcache.bin - RemoveCaches (13: Permission denied)\n",
            "E: Could not open lock file /var/lib/dpkg/lock-frontend - open (13: Permission denied)\n",
            "E: Unable to acquire the dpkg frontend lock (/var/lib/dpkg/lock-frontend), are you root?\n",
            "E: Could not open lock file /var/lib/dpkg/lock-frontend - open (13: Permission denied)\n",
            "E: Unable to acquire the dpkg frontend lock (/var/lib/dpkg/lock-frontend), are you root?\n"
          ]
        },
        {
          "name": "stdout",
          "output_type": "stream",
          "text": [
            "E: Could not open lock file /var/lib/dpkg/lock-frontend - open (13: Permission denied)\n",
            "E: Unable to acquire the dpkg frontend lock (/var/lib/dpkg/lock-frontend), are you root?\n",
            "Requirement already satisfied: pyvirtualdisplay in /home/lumin/miniconda3/lib/python3.12/site-packages (3.0)\n"
          ]
        }
      ],
      "source": [
        "!apt-get update\n",
        "!apt-get install -y x11-utils\n",
        "!apt-get install -y xvfb\n",
        "!apt-get install python3-opengl\n",
        "!pip install pyvirtualdisplay\n",
        "# good for colab"
      ]
    },
    {
      "cell_type": "code",
      "execution_count": 21,
      "metadata": {
        "colab": {
          "base_uri": "https://localhost:8080/",
          "height": 717
        },
        "id": "jxYrKerabAk9",
        "outputId": "1d57da3e-d7a3-4a13-8d88-ddab6268e4c2"
      },
      "outputs": [
        {
          "ename": "KeyboardInterrupt",
          "evalue": "",
          "output_type": "error",
          "traceback": [
            "\u001b[0;31m---------------------------------------------------------------------------\u001b[0m",
            "\u001b[0;31mKeyboardInterrupt\u001b[0m                         Traceback (most recent call last)",
            "Cell \u001b[0;32mIn[21], line 3\u001b[0m\n\u001b[1;32m      1\u001b[0m \u001b[38;5;28;01mimport\u001b[39;00m \u001b[38;5;21;01mpyvirtualdisplay\u001b[39;00m\n\u001b[1;32m      2\u001b[0m display \u001b[38;5;241m=\u001b[39m pyvirtualdisplay\u001b[38;5;241m.\u001b[39mDisplay(visible\u001b[38;5;241m=\u001b[39m\u001b[38;5;28;01mFalse\u001b[39;00m, size\u001b[38;5;241m=\u001b[39m(\u001b[38;5;241m1400\u001b[39m, \u001b[38;5;241m900\u001b[39m))\n\u001b[0;32m----> 3\u001b[0m display\u001b[38;5;241m.\u001b[39mstart()\n\u001b[1;32m      4\u001b[0m \u001b[38;5;28;01mfrom\u001b[39;00m \u001b[38;5;21;01mPIL\u001b[39;00m \u001b[38;5;28;01mimport\u001b[39;00m Image\n\u001b[1;32m      6\u001b[0m \u001b[38;5;28;01mdef\u001b[39;00m \u001b[38;5;21mrendering_callback\u001b[39m(env, td):\n",
            "File \u001b[0;32m~/miniconda3/lib/python3.12/site-packages/pyvirtualdisplay/display.py:72\u001b[0m, in \u001b[0;36mDisplay.start\u001b[0;34m(self)\u001b[0m\n\u001b[1;32m     66\u001b[0m \u001b[38;5;28;01mdef\u001b[39;00m \u001b[38;5;21mstart\u001b[39m(\u001b[38;5;28mself\u001b[39m) \u001b[38;5;241m-\u001b[39m\u001b[38;5;241m>\u001b[39m \u001b[38;5;124m\"\u001b[39m\u001b[38;5;124mDisplay\u001b[39m\u001b[38;5;124m\"\u001b[39m:\n\u001b[1;32m     67\u001b[0m \u001b[38;5;250m    \u001b[39m\u001b[38;5;124;03m\"\"\"\u001b[39;00m\n\u001b[1;32m     68\u001b[0m \u001b[38;5;124;03m    start display\u001b[39;00m\n\u001b[1;32m     69\u001b[0m \n\u001b[1;32m     70\u001b[0m \u001b[38;5;124;03m    :rtype: self\u001b[39;00m\n\u001b[1;32m     71\u001b[0m \u001b[38;5;124;03m    \"\"\"\u001b[39;00m\n\u001b[0;32m---> 72\u001b[0m     \u001b[38;5;28mself\u001b[39m\u001b[38;5;241m.\u001b[39m_obj\u001b[38;5;241m.\u001b[39mstart()\n\u001b[1;32m     73\u001b[0m     \u001b[38;5;28;01mreturn\u001b[39;00m \u001b[38;5;28mself\u001b[39m\n",
            "File \u001b[0;32m~/miniconda3/lib/python3.12/site-packages/pyvirtualdisplay/abstractdisplay.py:149\u001b[0m, in \u001b[0;36mAbstractDisplay.start\u001b[0;34m(self)\u001b[0m\n\u001b[1;32m    146\u001b[0m \u001b[38;5;28mself\u001b[39m\u001b[38;5;241m.\u001b[39m_is_started \u001b[38;5;241m=\u001b[39m \u001b[38;5;28;01mTrue\u001b[39;00m\n\u001b[1;32m    148\u001b[0m \u001b[38;5;28;01mif\u001b[39;00m \u001b[38;5;28mself\u001b[39m\u001b[38;5;241m.\u001b[39m_has_displayfd:\n\u001b[0;32m--> 149\u001b[0m     \u001b[38;5;28mself\u001b[39m\u001b[38;5;241m.\u001b[39m_start1_has_displayfd()\n\u001b[1;32m    150\u001b[0m \u001b[38;5;28;01melse\u001b[39;00m:\n\u001b[1;32m    151\u001b[0m     i \u001b[38;5;241m=\u001b[39m \u001b[38;5;241m0\u001b[39m\n",
            "File \u001b[0;32m~/miniconda3/lib/python3.12/site-packages/pyvirtualdisplay/abstractdisplay.py:197\u001b[0m, in \u001b[0;36mAbstractDisplay._start1_has_displayfd\u001b[0;34m(self)\u001b[0m\n\u001b[1;32m    193\u001b[0m log\u001b[38;5;241m.\u001b[39mdebug(\u001b[38;5;124m\"\u001b[39m\u001b[38;5;124mcommand: \u001b[39m\u001b[38;5;132;01m%s\u001b[39;00m\u001b[38;5;124m\"\u001b[39m, \u001b[38;5;28mself\u001b[39m\u001b[38;5;241m.\u001b[39m_command)\n\u001b[1;32m    195\u001b[0m \u001b[38;5;28mself\u001b[39m\u001b[38;5;241m.\u001b[39m_popen(use_pass_fds\u001b[38;5;241m=\u001b[39m\u001b[38;5;28;01mTrue\u001b[39;00m)\n\u001b[0;32m--> 197\u001b[0m \u001b[38;5;28mself\u001b[39m\u001b[38;5;241m.\u001b[39mdisplay \u001b[38;5;241m=\u001b[39m \u001b[38;5;28mint\u001b[39m(\u001b[38;5;28mself\u001b[39m\u001b[38;5;241m.\u001b[39m_wait_for_pipe_text(rfd))\n\u001b[1;32m    198\u001b[0m os\u001b[38;5;241m.\u001b[39mclose(rfd)\n\u001b[1;32m    199\u001b[0m os\u001b[38;5;241m.\u001b[39mclose(\u001b[38;5;28mself\u001b[39m\u001b[38;5;241m.\u001b[39m_pipe_wfd)\n",
            "File \u001b[0;32m~/miniconda3/lib/python3.12/site-packages/pyvirtualdisplay/abstractdisplay.py:295\u001b[0m, in \u001b[0;36mAbstractDisplay._wait_for_pipe_text\u001b[0;34m(self, rfd)\u001b[0m\n\u001b[1;32m    293\u001b[0m start_time \u001b[38;5;241m=\u001b[39m time\u001b[38;5;241m.\u001b[39mtime()\n\u001b[1;32m    294\u001b[0m \u001b[38;5;28;01mwhile\u001b[39;00m \u001b[38;5;28;01mTrue\u001b[39;00m:\n\u001b[0;32m--> 295\u001b[0m     (rfd_changed_ls, _, _) \u001b[38;5;241m=\u001b[39m select\u001b[38;5;241m.\u001b[39mselect([rfd], [], [], \u001b[38;5;241m0.1\u001b[39m)\n\u001b[1;32m    296\u001b[0m     \u001b[38;5;28;01mif\u001b[39;00m \u001b[38;5;129;01mnot\u001b[39;00m \u001b[38;5;28mself\u001b[39m\u001b[38;5;241m.\u001b[39mis_alive():\n\u001b[1;32m    297\u001b[0m         \u001b[38;5;28;01mraise\u001b[39;00m XStartError(\n\u001b[1;32m    298\u001b[0m             \u001b[38;5;124m\"\u001b[39m\u001b[38;5;132;01m%s\u001b[39;00m\u001b[38;5;124m program closed. command: \u001b[39m\u001b[38;5;132;01m%s\u001b[39;00m\u001b[38;5;124m stderr: \u001b[39m\u001b[38;5;132;01m%s\u001b[39;00m\u001b[38;5;124m\"\u001b[39m\n\u001b[1;32m    299\u001b[0m             \u001b[38;5;241m%\u001b[39m (\u001b[38;5;28mself\u001b[39m\u001b[38;5;241m.\u001b[39m_program, \u001b[38;5;28mself\u001b[39m\u001b[38;5;241m.\u001b[39m_command, \u001b[38;5;28mself\u001b[39m\u001b[38;5;241m.\u001b[39mstderr)\n\u001b[1;32m    300\u001b[0m         )\n",
            "\u001b[0;31mKeyboardInterrupt\u001b[0m: "
          ]
        }
      ],
      "source": [
        "import pyvirtualdisplay\n",
        "display = pyvirtualdisplay.Display(visible=False, size=(1400, 900))\n",
        "display.start()\n",
        "from PIL import Image\n",
        "\n",
        "def rendering_callback(env, td):\n",
        "    env.frames.append(Image.fromarray(env.render(mode=\"rgb_array\")))\n",
        "env.frames = []\n",
        "with torch.no_grad():\n",
        "   env.rollout(\n",
        "       max_steps=max_steps,\n",
        "       policy=policy,\n",
        "       callback=rendering_callback,\n",
        "       auto_cast_to_device=True,\n",
        "       break_when_any_done=False,\n",
        "   )\n",
        "env.frames[0].save(\n",
        "    f\"{scenario_name}.gif\",\n",
        "    save_all=True,\n",
        "    append_images=env.frames[1:],\n",
        "   duration=3,\n",
        "   loop=0,\n",
        ")\n",
        "\n",
        "from IPython.display import Image\n",
        "Image(open(f\"{scenario_name}.gif\", \"rb\").read())"
      ]
    },
    {
      "cell_type": "markdown",
      "metadata": {
        "id": "1YUiwuKTZAzN"
      },
      "source": [
        "## Conclusion and next steps\n",
        "\n",
        "In this tutorial, we have seen:\n",
        "\n",
        "- How to create a multi-agent environment in TorchRL, how its specs work, and how it integrates with the library;\n",
        "- How you use GPU vectorized environments in TorchRL;\n",
        "- How to create different multi-agent network architectures in TorchRL (e.g., using parameter sharing, centralised critic)\n",
        "- How we can use :class:`tensordict.TensorDict` to carry multi-agent data;\n",
        "- How we can tie all the library components (collectors, modules, replay buffers, and losses) in a multi-agent MAPPO/IPPO training loop.\n",
        "\n",
        "Now that you are proficient with multi-agent DDPG, you can check out all the TorchRL multi-agent implementations in the\n",
        "GitHub repository.\n",
        "These are code-only scripts of many popular MARL algorithms such as the ones seen in this tutorial,\n",
        "QMIX, MADDPG, IQL, and many more!\n",
        "\n",
        "You can also check out our other multi-agent tutorial on how to train competitive\n",
        "MADDPG/IDDPG in PettingZoo/VMAS with multiple agent groups: :doc:`/tutorials/multiagent_competitive_ddpg`.\n",
        "\n",
        "If you are interested in creating or wrapping your own multi-agent environments in TorchRL,\n",
        "you can check out the dedicated\n",
        "`doc section <MARL-environment-API>`.\n",
        "\n",
        "Finally, you can modify the parameters of this tutorial to try many other configurations and scenarios\n",
        "to become a MARL master.\n",
        "Here are a few videos of some possible scenarios you can try in VMAS.\n",
        "\n",
        ".. figure:: https://github.com/matteobettini/vmas-media/blob/main/media/vmas_scenarios_more.gif?raw=true\n",
        "   :alt: VMAS scenarios\n",
        "\n",
        "   Scenarios available in [VMAS](https://github.com/proroklab/VectorizedMultiAgentSimulator)_\n",
        "\n",
        "\n"
      ]
    }
  ],
  "metadata": {
    "colab": {
      "provenance": []
    },
    "kernelspec": {
      "display_name": "base",
      "language": "python",
      "name": "python3"
    },
    "language_info": {
      "codemirror_mode": {
        "name": "ipython",
        "version": 3
      },
      "file_extension": ".py",
      "mimetype": "text/x-python",
      "name": "python",
      "nbconvert_exporter": "python",
      "pygments_lexer": "ipython3",
      "version": "3.12.4"
    }
  },
  "nbformat": 4,
  "nbformat_minor": 0
}
